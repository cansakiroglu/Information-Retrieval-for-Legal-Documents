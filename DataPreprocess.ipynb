{
 "cells": [
  {
   "cell_type": "code",
   "execution_count": 17,
   "metadata": {},
   "outputs": [
    {
     "name": "stderr",
     "output_type": "stream",
     "text": [
      "/Users/cansakiroglu/miniconda3/envs/torch/lib/python3.11/site-packages/tqdm/auto.py:21: TqdmWarning: IProgress not found. Please update jupyter and ipywidgets. See https://ipywidgets.readthedocs.io/en/stable/user_install.html\n",
      "  from .autonotebook import tqdm as notebook_tqdm\n"
     ]
    }
   ],
   "source": [
    "import os\n",
    "import json\n",
    "from bs4 import BeautifulSoup\n",
    "import numpy as np\n",
    "import pandas as pd\n",
    "from tqdm import tqdm\n",
    "import pickle\n",
    "import re\n",
    "from transformers import BertModel, BertTokenizer\n",
    "import torch"
   ]
  },
  {
   "cell_type": "code",
   "execution_count": 2,
   "metadata": {},
   "outputs": [],
   "source": [
    "mode = 'read' # 'write' or 'read'\n",
    "if mode == 'write':\n",
    "    # To write the data\n",
    "    path_to_data = 'data/'\n",
    "    file_names = os.listdir(path_to_data)\n",
    "    print('Number of files: ', len(file_names))\n",
    "    data = []\n",
    "    for i in tqdm(range(len(file_names))):\n",
    "        with open(path_to_data + file_names[i], 'r') as f:\n",
    "            data.append(BeautifulSoup(json.loads(f.read())['data'], 'html.parser').get_text())\n",
    "    with open('data.pkl', 'wb') as f:\n",
    "        pickle.dump(data, f)\n",
    "else:\n",
    "    # To read the data\n",
    "    with open('data.pkl', 'rb') as f:\n",
    "        data = pickle.load(f)"
   ]
  },
  {
   "cell_type": "code",
   "execution_count": 3,
   "metadata": {},
   "outputs": [
    {
     "data": {
      "text/plain": [
       "' T.C.İSTANBUL5. ASLİYE TİCARET MAHKEMESİ ESAS NO\\t: 2016/451 EsasKARAR NO\\t: 2019/85DAVA\\t: Alacak (Ticari Nitelikteki Hizmet Sözleşmesinden Kaynaklanan)DAVA TARİHİ\\t: 21/04/2016KARAR TARİHİ\\t: 05/02/2019Mahkememizde görülmekte olan Alacak davasının yapılan açık yargılaması sonunda,GEREĞİ DÜŞÜNÜLDÜ:Davacı vekili 21/04/2016 tarihli dava dilekçesinde; Taraflar ve tarafların dışındaki kişilerle yapılmış 20 Mart 2006 tarihli düzenleme şeklinde ortaklar özel sözleşmesi gereğince davalı ve dava dışı diğer şahısların taşınmazlarının kurulacak bir şirkete devredilmesi ve kurulmuş şirketin bu taşınmazlar üzerinde inşaat faaliyetine başlamasını öngören bir sözleşme yapıldığını, bu sözleşmeye göre aralarında davalının da bulunduğu \"mal sahiplerine\" ait taşınmazların üzerinde yapılacak inşaatın finansmanının davacı tarafından karşılanacağını, taşınmaz üzerindeki borçların ve bazı giderlerin davacı tarafından ödendiğini, yapılacak inşaata ilişkin, öngörülen biçimde ruhsat alınmasının yasal olarak mümkün olmadığından taraflar arasında yapılan sözleşmenin hukuken imkansız hale geldiğini, aralarında davalının da bulunduğu taşınmaz sahipleri tarafından, davacının hissedarı bulunduğu şirkete karşı taşınmazlarını geri almak amacıyla, taşınmazların kayıtlı olduğu şirketin hisselerinin kendilerine devri için dava açıldığını, mahkemenin taşınmazların kayıtlı bulunduğu şirketteki davacıya ait hisselerin devrine karar verdiğini, şirketin amacının gerçekleşmemesi üzerine davacıların daha önce inşaat yapımı için ortaya koydukları taşınmazlarını şirket hisselerinin tamamına sahip olarak geri almış bulunmakta olduğunu, inşaatın yapımını üstlenen davacı şirketin davalı ve dava dışı kişilere karşı onların borçlarını ödemiş bulunduğundan, bu bedellerin iadesini isteme zorunluluğu doğduğunu, davacının amacı gerçekleşmeyen bu sözleşme uyarınca yapmış olduğu giderlerin, aralarında davalının da bulunduğu diğer taşınmaz sahipleri tarafından açılmış ve karara bağlanmış bulunan davada, mahkeme kararının 4.sahifesinde ödeme yapıldığının açıkça belirtildiğini, davalıya ve dava dışı arkadaşlarına toplam 20.000,00 TL olmak üzere 5.000,00 TL ... A.Ş.\\'ne ödendiğini, davalı ve dava dışı diğer mal sahiplerine ait taşınmazların devri için toplamda 117.850,00 TL emlak vergisi ödenmiş olup davalıya düşer miktarın 29.462,50 TL olduğunu, davalı ve dava dışı diğer mal sahiplerine ait taşınmazların etrafının çitle çevrilmesi ve restorasyonu için ... Şti.\\'ne yapılan toplamda 100.000 USD ödemeden davalı hissesine düşenin 25.000 USD olduğunu, davalı ve dava dışı diğer mal sahiplerine ait taşınmazların üzerinde yapılacak inşaata ilişkin tasarım ve yerleşim maketi için ...Tic. Ltd. Şti.\\'ne yapılan toplamda 32.450,00 TL ödemeden davalı hissesine düşenin 8.112,50 TL olduğunu, taşınmazlara ilişkin proje danışmanlık hizmet için ... Tic. A.Ş.\\'ne 108.000,00 TL ödemeden davalı hissesine düşenin 27.000,00 TL olduğunu, İstanbul Kapatılan 48. A.T.M.\\'nin 2013/101 esas, 2014/72 karar sayılı mahkeme ilamı, 3.sayfa son paragrafta \"taşınmazların devir tarihinde ödenecek olan miktarın belirlendiğini, bu miktarın 2.300,000 Amerikan Dolarının davacılara (mal sahiplerine) ödendiğini, davacılar tarafından sunulan 14.05.2008 havale tarihli replik dilekçesinde kabul edilmiştir.\" denildiğini, davacı tarafından bu şahsın borçlarının ödenmesinden doğan payına isabet eden 25.000 USD\\'nin ödeme tarihi 21.04.2006 tarihinden itibaren 3095 sayılı kanunun 4/a maddesi gereğince fiili ödeme tarihinde Devlet Bankalarının Amerikan Doları ile açılmış bir (1) yıl vadeli mevduat hesabına ödediği en yüksek faiz oranına göre işlemiş faizi ile birlikte ve 69.575,00 TL\\'nin ödeme tarihi 21.04.2006 tarihinden itibaren reeskont faizi ile birlikte tahsiline, davanın süresi ve davalıya ait ... A.Ş.deki hisselerden oluşan mal varlığı dışında bir mal varlığı bulunmadığından, mahkemece uygun görülecek teminat takdiri suretiyle işbu şahsın şirket hisselerinin 3.şahıslara devir ve temlikinin ihtiyati tedbir yoluyla önlenmesine karar verilmesini talep ve dava etmiştir.Davalıya usulüne uygun dava dilekçesi, duruşma gün ve saati tebliğ edilmiş, davalı vekili vermiş olduğu cevap dilekçesinde; dava dilekçesinde belirtilen beyanların ve taleplerin haksız ve mesnetsiz olduğunu, davacının ... 48. A.T.M.\\'nin kararın gerekçesinin sadece bir kısmından alıntı yaparak gerçek dışı iddialarına dayanak bulmaya çalıştığını, taraflar arasında yaşanmış olan sürecin davacılar tarafından gerçek dışı beyanlar ile aktarılması nedenine binaen öncelikle anılan süreci mahkemeye gerçek haliyle ve ilgili mahkeme ve Yargıtay onama kararlarının gerekçelerini sunduklarını, Ortaklar Özel Sözleşmesine göre, müvekkilinin de aralarında bulunduğu mal sahiplerinin asli ediminin, sahibi oldukları gayrimenkulleri davacılar ile birlikte kurulacak ... A.Ş.\\'ne devretmek, ... Grubunun ise finansman temin etmek suretiyle bu taşınmazlar üzerinde ... A.Ş. çatısı altında inşaat yapmak olduğunu, ... tarafının, sözleşmenin 12.maddesinde, inşa edilecek köşk ve villaların satışından elde edilecek hasılattan, her ne ad altında olursa olsun yapmış olduğu masraflar ve vergiler ile ilgili bir kesinti yapmaksızın %45\\'lik kısmının müvekkilinin de aralarında bulunduğu mal sahiplerine ödemeyi müşterek borçlu ve müteselsil kefil sıfatı ile taahhüt ettiğini, dava dilekçesinde gerçek dışı beyanların aksine, ... tarafının, üzerine düşen yükümlülükleri yerine getirmediğini, söz konusu taşınmazları usulsüz bir şekilde ele geçirmek için muvazaalı iş ve işlemler gerçekleştirdiğini, dava dilekçesinde açıklamalar kısmının 3 numaralı maddesinde yer alan \"Yapılacak inşaata ilişkin, öngörülen biçimde ruhsat alınması yasal olarak mümkün olamadığından taraflar arasında yapılan sözleşme hukuken imkansız hale gelmiştir.\" şeklindeki beyanın gerçek dışı olduğunu, sözleşmenin gerçekleşmesinin nedeninin ruhsat alınamaması gibi gösterilmeye çalışıldığını, gerçek dışı beyanda bulunulduğunu, ... A.Ş.\\'nin de sahibi olduğu hisselerin, müvekkili ve diğer mal sahiplerine bilabedel devretmeye mahkum edildiğini, ancak, dava dilekçesinde belirtilen gerçek dışı beyanın aksine, müvekkilinin de aralarında bulunduğu mal sahiplerinin, şirket hisselerini halen geri alamamış olduklarını, açıklanan hususlar ve mahkeme kararı gerekçesi ile birlikte değerlendirildiğinde, davacıların huzurdaki mahkemedeki taleplerinin sebepsiz zenginleşme yaratacağının izahtan vareste olduğunu, davacıların, hem hükmen iade etmesi gereken hisseleri ve dolayısıyla taşınmazları iade etmediği gibi, bu defa müvekkilinin uhdesinde başından beri bulunan hisseleri ve dolayısıyla taşınmazın tamamını ele geçirmek istediğini, davacıların alacak talebinin, kesinleşmiş mahkeme kararı nedeni ile haksız ve mesnetsiz bir talep olduğunu, Ortaklar Özel Sözleşmesindeki hak ve alacaklarının devredilmiş olduğunun kabul edilmesi gerektiğini, ileri sürülen mesnetsiz alacak hakkının, şirket hisselerini devir alan başka bir tüzel kişiliğe geçeceğini, davacıların bu nedenle aktif dava ehliyeti bulunmadığını, zamanaşımı itirazlarının olduğunu, davacıların aktif dava ehliyeti bulunmaması nedeni ile davanın usulden reddine, zamanaşımı nedeni ile davanın reddine, haksız ve mesnetsiz davanın reddine karar verilmesini talep etmiştir.Dava; taraflar arasındaki inşaat yapım sözleşmesi kapsamında, sözleşmenin ruhsat alım nedeni ile gerçekleşmemesi nedeni ile sözleşme kapsamında, davacı tarafından yapılan ödemelerin davalı payına düşen kısmının tahsili istemine ilişkindir.Mahkememizce, bilirkişi olarak mali müşavir ... ile inşaat mühendisi ...\\'in tayinine, tüm dosya kapsamı ve tarafların ticari defter ve kayıtları üzerinde inceleme yaparak rapor düzenlemelerinin istenilmesine karar verilmiş olup, ibraz edilen 27/11/2017 tarihli raporda; ... 22.Noterliği ... tarih ve ... yevmiye no ile onaylı ...,..., ...  San. A.Ş., .... ile ... İşletmecilik A.Ş. arasında 20.03.2006 tarihinde Düzenleme Şeklinde Ortaklar Özel Sözleşmesi akdedildiğinin görüldüğü, davacının çevirme masrafları olarak 100.000 USD harcama yaptığının anlaşıldığı, bu tutarın 25.000 USD\\'lik kısmı malik olan davalıdan istendiği, söz konusu 25.000 USD\\'nin maliklerin devrettikleri tapuları geri alma haklarını kullanarak ... 1. ATM ... sayılı dosyasında verilen karar kapsamında geri almalarına karar verilmesi sebebiyle, yine 8/c maddesi kapsamında %50 oranda mahkemece paylaşılması değerlendirildiğinde, hesaplaması aşağıdaki gibi 12.500 USD olarak yapıldığı, ayrıca mahkemece davacı talebi gibi tamamının verilmesi değerlendirildiğinde 25.000 USD söz konusu olacağı, sonuç olarak dosya, davacıların sunulan kayıtları, kayıtların dayanağı belgeleri kapsamında talebe konu ödemeler ile ilgili tespitler raporun içerisinde arz edildiği, yine taraflar arasında yapılan 20.03.2006 tarihli Ortaklar Özel Sözleşmesi kapsamında hükümler, ... 1 ATM ... sayılı dosya ile ilgili karar ve tüm kapsam incelendiği, talebe binaen yapılan hesaplamaların takdiri mahkemeye ait olmak üzere sunulduğu bildirilmiştir.Tüm dosya kapsamı bir bütün olarak değerlendirildiğinde, davacılar davasında davalı ile inşaat yapımına ilişkin sözleşme yaptıklarını, inşaat ruhsatının alınamaması sebebiyle taraflar arasındaki sözleşmenin hükümsüz hale geldiğini, sözleşme kapsamında yaptıkları masrafların davalıdan tahsilini talep etmiştir. Dosya içerisinde bulunan düzenleme şeklinde ortaklar özel sözleşmesi örneğinden davacılar ile davalı arasında mal sahiplerinin toplam 45.824,69 m2 alanlı arsaların satış bedelleri hasılat paylaşımı yoluyla ... tarafından tediye edilmek üzere ... ile birlikte kurulacak yatırımcı şirkete satış yoluyla devri konusunda sözleşme yapmış oldukları, dosya içerisinde bulunan ... 1. ATM\\'nin ... esas 2010/52 karar sayılı kararında kararın incelemesinde davacılar ... ve ...\\'ın davalılar .... ve ... A.Ş.\\'ye açmış oldukları davada mahkemenin hisse devri davasının kabulüne karar verilmiş olduğu görülmüştür. Dosya içerisinde bulunan ... 48. ATM\\'nin 2013/101 esas, 2014/72 karar sayılı kararının incelenmesinde, asıl ve birleşen davalarda davacı ..., ..., ... A.Ş.ve ... A.ş. Tarafından davalılar .... ve ... hakkındaki hisse devri davalarının kabulüne karar verilmiş olduğu görülmüştür. Dosya mali müşavir ve inşaat mühendisi bilirkişilere verilmiş, yapılan inceleme sonucunda düzenlenen raporda davacının davalı şirkete 5.000 TL ödemesinin mevcut olduğu, diğer taleplerin tarafların sözleşme konusu işin yapımı için kurulmuş olan torba şirketindeki hisse oranlarına göre hesaplandığı, bu bedellerin sözleşme konusu işin yapılmış olması halinde davacının talepte bulunamayacağı ancak sözleşme hükümlerince işin yapılamamış olmasından dolayı davacının yapmış olduğu masraflardan 1/2 oranın şirketteki hisse paylarına göre davalılardan talep edilebileceği bu orana göre taşınmaz devri için davalının 14.731,25 TL den tasarım maketi için 4.056,25 TL den proje danışmanlık harcaması için 13.500 TL den ve taşınmaz çevresine çit yapılmasından dolayı yapılan harcamadan dolayı 12.500 USD davacının talep edebileceğini rapor ettiği görülmüş, dosya içerisinde bulunan taraflar arasındaki düzenleme şeklindeki ortaklık sözleşmesinin 8/c maddesine göre mücbir sebeplerden ve sözleşme taraflarının ihmal ve kusurlarından kaynaklanmayan herhangi bir nedenle inşaat ruhsatnamesinin kısmen veya tamamen iptal edilmesi bunun ... A.Ş. veya ...\\'in ihmal veya kusurundan kaynaklanmaması kaydıyla projenin inşa edilememesi halinde ... veya ... A.Ş. tarafından karşılanan inşaat giderlerinin %50\\'sinin ...\\'e ödenmesi karşılığında bu maddede yazılı alım hakkının olacağının hükme bağlandığı görülmüş, sözleşmenin bu hükmüne göre sözleşme konusu işin yapımı için gerekli ruhsatın alınamaması halinde yapılan masraflardan %50\\'sinin ... Şirketindeki pay oranına göre davalının sorumlu olacağı, yaptırılan bilirkişi incelemesinde davacının sözleşme kapsamında yapmış olduğu masraflar kalem kalem tespit edilmiş, bu miktarlar üzerinden sözleşmenin 8/c maddesi gereğince hisse oranına göre yapılan hesaplamada davacının davalıdan 37.287,50 TL ve 12.500 USD alacaklı olduğu ve bu nedenle de davacının davasının kısmen kabulüne, 37.287,50 TL nin dava tarihinden itibaren işleyecek avans faizi ile davalıdan alınarak davacıya ödenmesine, 12.500 USD nin dava tarihinden itibaren 3095 sayılı yasanın 4/a maddesine göre devlet bankalarında döviz cinsinden 1 yıl vadeli mevduatlara uygulanan en yüksek faiz ile davalıdan tahsili ile davacıya ödenmesine, fazlaya ilişkin istemin reddine karar vermek gerekmiş ve aşağıdaki şekilde hüküm kurulmuştur.HÜKÜM / Yukarıda açıklanan nedenlerle:1-Davacının davasının KISMEN KABULÜNE, 37.287,50 TL nin dava tarihinden itibaren işleyecek avans faizi ile davalıdan alınarak davacıya ödenmesine, 12.500 USD nin dava tarihinden itibaren 3095 sayılı yasanın 4/a maddesine göre devlet bankalarında döviz cinsinden 1 yıl vadeli mevduatlara uygulanan en yüksek faiz ile davalıdan tahsili ile davacıya ödenmesine, fazlaya ilişkin istemin reddine,2-Karar tarihinde yürürlükte bulunan harçlar tarifesi gereğince hesaplanan 4.972,11 TL nispi karar ve ilam harcından, başlangıçta yatırılan 2.391,71 TL peşin harcın mahsubu ile bakiye 2.580,40 TL nispi karar ve ilam harcının davalıdan tahsili ile hazineye gelir kaydına, 3-Davacılar tarafından yatırılan 2.391,71 TL harç ile, yine davacılar tarafından aşağıda dökümü yapılan 1.763,50 TL yargılama giderinden davanın kabul edilen kısmı üzerinden hesaplanan 916,49 TL\\'nin davalıdan alınarak davacılara verilmesine, bakiye kısmın davacılar üzerinde bırakılmasına,4-Davacılar kendisini vekille temsil ettirdiğinden, davanın kabul edilen kısmı üzerinden, karar tarihinde yürürlükte bulunan Avukatlık Asgari Ücret Tarifesi gereğince hesaplanan 8.356,63 TL nispi vekalet ücretinin davalıdan alınarak davacılara verilmesine,5-Davalı kendisini vekille temsil ettirdiğinden, davanın reddedilen kısmı üzerinden, karar tarihinde yürürlükte bulunan Avukatlık Asgari Ücret Tarifesi gereğince hesaplanan 7.748,88 TL nispi vekalet ücretinin davacılardan alınarak davalıya verilmesine,6-Davacılar tarafından yatırılan gider avansından bakiye kalan kısmın, karar kesinleştiğinde ve  talep halinde iadesine,dair davacı ve davalı vekilinin yüzüne karşı gerekçeli kararın tebliğinden itibaren 2 haftalık sürede istinaf yolu açık olmak üzere karar verildi. 05/02/2019Katip ...  Hakim ... Harç BeyanıK.H.=   4.972,11 TLP.H.=    2.391,71 TLB.H.=   2.580,40 TLDavacılar yargılama gideri1.600,00 TL bilirkişi ücreti   163,50 TL posta gideri1.763,50 TL Toplam yargılama gideri'"
      ]
     },
     "execution_count": 3,
     "metadata": {},
     "output_type": "execute_result"
    }
   ],
   "source": [
    "data[0]"
   ]
  },
  {
   "cell_type": "code",
   "execution_count": 5,
   "metadata": {},
   "outputs": [
    {
     "name": "stderr",
     "output_type": "stream",
     "text": [
      "100%|██████████| 446094/446094 [00:53<00:00, 8367.48it/s] \n"
     ]
    }
   ],
   "source": [
    "queries = []\n",
    "for i in tqdm(range(len(data))):\n",
    "    pattern = r\"[Dd]ava dilekçesinde.*?;.*?[qwertyuıopğüasdfghjklşizxcvbnmöç]\\.[ ]?[QWERTYUIOPĞÜASDFGHJKLŞİZXCVBNMÖÇ]\"\n",
    "    match = re.search(pattern, data[i])\n",
    "    result = match.group(0) if match else None\n",
    "    queries.append(result.split(';')[1].strip() if result is not None else None)\n",
    "    if match:\n",
    "        data[i] = re.sub(pattern, result[-1], data[i])\n"
   ]
  },
  {
   "cell_type": "code",
   "execution_count": 6,
   "metadata": {},
   "outputs": [],
   "source": [
    "queries[0]"
   ]
  },
  {
   "cell_type": "code",
   "execution_count": 7,
   "metadata": {},
   "outputs": [
    {
     "data": {
      "text/plain": [
       "' T.C.İSTANBUL5. ASLİYE TİCARET MAHKEMESİ ESAS NO\\t: 2016/451 EsasKARAR NO\\t: 2019/85DAVA\\t: Alacak (Ticari Nitelikteki Hizmet Sözleşmesinden Kaynaklanan)DAVA TARİHİ\\t: 21/04/2016KARAR TARİHİ\\t: 05/02/2019Mahkememizde görülmekte olan Alacak davasının yapılan açık yargılaması sonunda,GEREĞİ DÜŞÜNÜLDÜ:Davacı vekili 21/04/2016 tarihli Ltd. Şti.\\'ne yapılan toplamda 32.450,00 TL ödemeden davalı hissesine düşenin 8.112,50 TL olduğunu, taşınmazlara ilişkin proje danışmanlık hizmet için ... Tic. A.Ş.\\'ne 108.000,00 TL ödemeden davalı hissesine düşenin 27.000,00 TL olduğunu, İstanbul Kapatılan 48. A.T.M.\\'nin 2013/101 esas, 2014/72 karar sayılı mahkeme ilamı, 3.sayfa son paragrafta \"taşınmazların devir tarihinde ödenecek olan miktarın belirlendiğini, bu miktarın 2.300,000 Amerikan Dolarının davacılara (mal sahiplerine) ödendiğini, davacılar tarafından sunulan 14.05.2008 havale tarihli replik dilekçesinde kabul edilmiştir.\" denildiğini, davacı tarafından bu şahsın borçlarının ödenmesinden doğan payına isabet eden 25.000 USD\\'nin ödeme tarihi 21.04.2006 tarihinden itibaren 3095 sayılı kanunun 4/a maddesi gereğince fiili ödeme tarihinde Devlet Bankalarının Amerikan Doları ile açılmış bir (1) yıl vadeli mevduat hesabına ödediği en yüksek faiz oranına göre işlemiş faizi ile birlikte ve 69.575,00 TL\\'nin ödeme tarihi 21.04.2006 tarihinden itibaren reeskont faizi ile birlikte tahsiline, davanın süresi ve davalıya ait ... A.Ş.deki hisselerden oluşan mal varlığı dışında bir mal varlığı bulunmadığından, mahkemece uygun görülecek teminat takdiri suretiyle işbu şahsın şirket hisselerinin 3.şahıslara devir ve temlikinin ihtiyati tedbir yoluyla önlenmesine karar verilmesini talep ve dava etmiştir.Davalıya usulüne uygun dava dilekçesi, duruşma gün ve saati tebliğ edilmiş, davalı vekili vermiş olduğu cevap dilekçesinde; Lahkememizce, bilirkişi olarak mali müşavir ... ile inşaat mühendisi ...\\'in tayinine, tüm dosya kapsamı ve tarafların ticari defter ve kayıtları üzerinde inceleme yaparak rapor düzenlemelerinin istenilmesine karar verilmiş olup, ibraz edilen 27/11/2017 tarihli raporda; ... 22.Noterliği ... tarih ve ... yevmiye no ile onaylı ...,..., ...  San. A.Ş., .... ile ... İşletmecilik A.Ş. arasında 20.03.2006 tarihinde Düzenleme Şeklinde Ortaklar Özel Sözleşmesi akdedildiğinin görüldüğü, davacının çevirme masrafları olarak 100.000 USD harcama yaptığının anlaşıldığı, bu tutarın 25.000 USD\\'lik kısmı malik olan davalıdan istendiği, söz konusu 25.000 USD\\'nin maliklerin devrettikleri tapuları geri alma haklarını kullanarak ... 1. ATM ... sayılı dosyasında verilen karar kapsamında geri almalarına karar verilmesi sebebiyle, yine 8/c maddesi kapsamında %50 oranda mahkemece paylaşılması değerlendirildiğinde, hesaplaması aşağıdaki gibi 12.500 USD olarak yapıldığı, ayrıca mahkemece davacı talebi gibi tamamının verilmesi değerlendirildiğinde 25.000 USD söz konusu olacağı, sonuç olarak dosya, davacıların sunulan kayıtları, kayıtların dayanağı belgeleri kapsamında talebe konu ödemeler ile ilgili tespitler raporun içerisinde arz edildiği, yine taraflar arasında yapılan 20.03.2006 tarihli Ortaklar Özel Sözleşmesi kapsamında hükümler, ... 1 ATM ... sayılı dosya ile ilgili karar ve tüm kapsam incelendiği, talebe binaen yapılan hesaplamaların takdiri mahkemeye ait olmak üzere sunulduğu bildirilmiştir.Tüm dosya kapsamı bir bütün olarak değerlendirildiğinde, davacılar davasında davalı ile inşaat yapımına ilişkin sözleşme yaptıklarını, inşaat ruhsatının alınamaması sebebiyle taraflar arasındaki sözleşmenin hükümsüz hale geldiğini, sözleşme kapsamında yaptıkları masrafların davalıdan tahsilini talep etmiştir. Dosya içerisinde bulunan düzenleme şeklinde ortaklar özel sözleşmesi örneğinden davacılar ile davalı arasında mal sahiplerinin toplam 45.824,69 m2 alanlı arsaların satış bedelleri hasılat paylaşımı yoluyla ... tarafından tediye edilmek üzere ... ile birlikte kurulacak yatırımcı şirkete satış yoluyla devri konusunda sözleşme yapmış oldukları, dosya içerisinde bulunan ... 1. ATM\\'nin ... esas 2010/52 karar sayılı kararında kararın incelemesinde davacılar ... ve ...\\'ın davalılar .... ve ... A.Ş.\\'ye açmış oldukları davada mahkemenin hisse devri davasının kabulüne karar verilmiş olduğu görülmüştür. Dosya içerisinde bulunan ... 48. ATM\\'nin 2013/101 esas, 2014/72 karar sayılı kararının incelenmesinde, asıl ve birleşen davalarda davacı ..., ..., ... A.Ş.ve ... A.ş. Tarafından davalılar .... ve ... hakkındaki hisse devri davalarının kabulüne karar verilmiş olduğu görülmüştür. Dosya mali müşavir ve inşaat mühendisi bilirkişilere verilmiş, yapılan inceleme sonucunda düzenlenen raporda davacının davalı şirkete 5.000 TL ödemesinin mevcut olduğu, diğer taleplerin tarafların sözleşme konusu işin yapımı için kurulmuş olan torba şirketindeki hisse oranlarına göre hesaplandığı, bu bedellerin sözleşme konusu işin yapılmış olması halinde davacının talepte bulunamayacağı ancak sözleşme hükümlerince işin yapılamamış olmasından dolayı davacının yapmış olduğu masraflardan 1/2 oranın şirketteki hisse paylarına göre davalılardan talep edilebileceği bu orana göre taşınmaz devri için davalının 14.731,25 TL den tasarım maketi için 4.056,25 TL den proje danışmanlık harcaması için 13.500 TL den ve taşınmaz çevresine çit yapılmasından dolayı yapılan harcamadan dolayı 12.500 USD davacının talep edebileceğini rapor ettiği görülmüş, dosya içerisinde bulunan taraflar arasındaki düzenleme şeklindeki ortaklık sözleşmesinin 8/c maddesine göre mücbir sebeplerden ve sözleşme taraflarının ihmal ve kusurlarından kaynaklanmayan herhangi bir nedenle inşaat ruhsatnamesinin kısmen veya tamamen iptal edilmesi bunun ... A.Ş. veya ...\\'in ihmal veya kusurundan kaynaklanmaması kaydıyla projenin inşa edilememesi halinde ... veya ... A.Ş. tarafından karşılanan inşaat giderlerinin %50\\'sinin ...\\'e ödenmesi karşılığında bu maddede yazılı alım hakkının olacağının hükme bağlandığı görülmüş, sözleşmenin bu hükmüne göre sözleşme konusu işin yapımı için gerekli ruhsatın alınamaması halinde yapılan masraflardan %50\\'sinin ... Şirketindeki pay oranına göre davalının sorumlu olacağı, yaptırılan bilirkişi incelemesinde davacının sözleşme kapsamında yapmış olduğu masraflar kalem kalem tespit edilmiş, bu miktarlar üzerinden sözleşmenin 8/c maddesi gereğince hisse oranına göre yapılan hesaplamada davacının davalıdan 37.287,50 TL ve 12.500 USD alacaklı olduğu ve bu nedenle de davacının davasının kısmen kabulüne, 37.287,50 TL nin dava tarihinden itibaren işleyecek avans faizi ile davalıdan alınarak davacıya ödenmesine, 12.500 USD nin dava tarihinden itibaren 3095 sayılı yasanın 4/a maddesine göre devlet bankalarında döviz cinsinden 1 yıl vadeli mevduatlara uygulanan en yüksek faiz ile davalıdan tahsili ile davacıya ödenmesine, fazlaya ilişkin istemin reddine karar vermek gerekmiş ve aşağıdaki şekilde hüküm kurulmuştur.HÜKÜM / Yukarıda açıklanan nedenlerle:1-Davacının davasının KISMEN KABULÜNE, 37.287,50 TL nin dava tarihinden itibaren işleyecek avans faizi ile davalıdan alınarak davacıya ödenmesine, 12.500 USD nin dava tarihinden itibaren 3095 sayılı yasanın 4/a maddesine göre devlet bankalarında döviz cinsinden 1 yıl vadeli mevduatlara uygulanan en yüksek faiz ile davalıdan tahsili ile davacıya ödenmesine, fazlaya ilişkin istemin reddine,2-Karar tarihinde yürürlükte bulunan harçlar tarifesi gereğince hesaplanan 4.972,11 TL nispi karar ve ilam harcından, başlangıçta yatırılan 2.391,71 TL peşin harcın mahsubu ile bakiye 2.580,40 TL nispi karar ve ilam harcının davalıdan tahsili ile hazineye gelir kaydına, 3-Davacılar tarafından yatırılan 2.391,71 TL harç ile, yine davacılar tarafından aşağıda dökümü yapılan 1.763,50 TL yargılama giderinden davanın kabul edilen kısmı üzerinden hesaplanan 916,49 TL\\'nin davalıdan alınarak davacılara verilmesine, bakiye kısmın davacılar üzerinde bırakılmasına,4-Davacılar kendisini vekille temsil ettirdiğinden, davanın kabul edilen kısmı üzerinden, karar tarihinde yürürlükte bulunan Avukatlık Asgari Ücret Tarifesi gereğince hesaplanan 8.356,63 TL nispi vekalet ücretinin davalıdan alınarak davacılara verilmesine,5-Davalı kendisini vekille temsil ettirdiğinden, davanın reddedilen kısmı üzerinden, karar tarihinde yürürlükte bulunan Avukatlık Asgari Ücret Tarifesi gereğince hesaplanan 7.748,88 TL nispi vekalet ücretinin davacılardan alınarak davalıya verilmesine,6-Davacılar tarafından yatırılan gider avansından bakiye kalan kısmın, karar kesinleştiğinde ve  talep halinde iadesine,dair davacı ve davalı vekilinin yüzüne karşı gerekçeli kararın tebliğinden itibaren 2 haftalık sürede istinaf yolu açık olmak üzere karar verildi. 05/02/2019Katip ...  Hakim ... Harç BeyanıK.H.=   4.972,11 TLP.H.=    2.391,71 TLB.H.=   2.580,40 TLDavacılar yargılama gideri1.600,00 TL bilirkişi ücreti   163,50 TL posta gideri1.763,50 TL Toplam yargılama gideri'"
      ]
     },
     "execution_count": 7,
     "metadata": {},
     "output_type": "execute_result"
    }
   ],
   "source": [
    "data[0]"
   ]
  },
  {
   "cell_type": "code",
   "execution_count": 8,
   "metadata": {},
   "outputs": [
    {
     "name": "stdout",
     "output_type": "stream",
     "text": [
      "Number of null elements in queries: 158635\n"
     ]
    }
   ],
   "source": [
    "null_count = sum(1 for item in queries if item is None)\n",
    " \n",
    "print(f\"Number of null elements in queries: {null_count}\")"
   ]
  },
  {
   "cell_type": "code",
   "execution_count": 9,
   "metadata": {},
   "outputs": [
    {
     "name": "stdout",
     "output_type": "stream",
     "text": [
      "Successful pair rate: 64.44%\n"
     ]
    }
   ],
   "source": [
    "total_count = len(queries)\n",
    "non_null_count = total_count - null_count\n",
    "ratio = round(non_null_count / total_count, 4)\n",
    "print(f\"Successful pair rate: {ratio*100}%\")"
   ]
  },
  {
   "cell_type": "code",
   "execution_count": 10,
   "metadata": {},
   "outputs": [
    {
     "name": "stderr",
     "output_type": "stream",
     "text": [
      "  0%|          | 0/446094 [00:00<?, ?it/s]"
     ]
    },
    {
     "name": "stderr",
     "output_type": "stream",
     "text": [
      "100%|██████████| 446094/446094 [00:30<00:00, 14539.10it/s]\n"
     ]
    }
   ],
   "source": [
    "dataset_dict = {'doc': [], 'query': []}\n",
    "for i in tqdm(range(len(data))):\n",
    "    if queries[i] is not None and data[i] is not None:\n",
    "        dataset_dict['doc'].append(data[i])\n",
    "        dataset_dict['query'].append(queries[i])"
   ]
  },
  {
   "cell_type": "code",
   "execution_count": 11,
   "metadata": {},
   "outputs": [],
   "source": [
    "dataset = pd.DataFrame(dataset_dict)"
   ]
  },
  {
   "cell_type": "code",
   "execution_count": 12,
   "metadata": {},
   "outputs": [
    {
     "data": {
      "text/html": [
       "<div>\n",
       "<style scoped>\n",
       "    .dataframe tbody tr th:only-of-type {\n",
       "        vertical-align: middle;\n",
       "    }\n",
       "\n",
       "    .dataframe tbody tr th {\n",
       "        vertical-align: top;\n",
       "    }\n",
       "\n",
       "    .dataframe thead th {\n",
       "        text-align: right;\n",
       "    }\n",
       "</style>\n",
       "<table border=\"1\" class=\"dataframe\">\n",
       "  <thead>\n",
       "    <tr style=\"text-align: right;\">\n",
       "      <th></th>\n",
       "      <th>doc</th>\n",
       "      <th>query</th>\n",
       "    </tr>\n",
       "  </thead>\n",
       "  <tbody>\n",
       "    <tr>\n",
       "      <th>0</th>\n",
       "      <td>T.C. İstanbul Anadolu  8. ASLİYE TİCARET MAHK...</td>\n",
       "      <td>müvekkilinin ortak ve yetkilisi olduğu,  ---- ...</td>\n",
       "    </tr>\n",
       "    <tr>\n",
       "      <th>1</th>\n",
       "      <td>T.C.İSTANBUL5. ASLİYE TİCARET MAHKEMESİESAS N...</td>\n",
       "      <td>müvekkiline ait ... ENERJİ SAN. TİC. LTD. ŞTİ....</td>\n",
       "    </tr>\n",
       "    <tr>\n",
       "      <th>2</th>\n",
       "      <td>T.C. BAKIRKÖY 7. ASLİYE TİCARET MAHKEMESİ\\t E...</td>\n",
       "      <td>27.08.2012 tarihli, ...... numaralı Poliçe ile...</td>\n",
       "    </tr>\n",
       "    <tr>\n",
       "      <th>3</th>\n",
       "      <td>T.C. BAKIRKÖY 4. ASLİYE TİCARET MAHKEMESİ\\t E...</td>\n",
       "      <td>...Bankası A.Ş. ... Şubesine ait</td>\n",
       "    </tr>\n",
       "    <tr>\n",
       "      <th>4</th>\n",
       "      <td>T.C.İSTANBUL14. ASLİYE TİCARET MAHKEMESİESAS ...</td>\n",
       "      <td>\"davalı borçlu ile müvekkili arasında 14/04/20...</td>\n",
       "    </tr>\n",
       "    <tr>\n",
       "      <th>...</th>\n",
       "      <td>...</td>\n",
       "      <td>...</td>\n",
       "    </tr>\n",
       "    <tr>\n",
       "      <th>287454</th>\n",
       "      <td>....TÜRK MİLLETİ ADINA\\tT.C.\\tBURSA1. ASLİYE...</td>\n",
       "      <td>davacı ve davalı arasında olan ticari ilişki n...</td>\n",
       "    </tr>\n",
       "    <tr>\n",
       "      <th>287455</th>\n",
       "      <td>T.C. İstanbul Anadolu  1. ASLİYE TİCARET MAHK...</td>\n",
       "      <td>davacının belirtilen tarihler arasında çalıştı...</td>\n",
       "    </tr>\n",
       "    <tr>\n",
       "      <th>287456</th>\n",
       "      <td>T.C. İstanbul Anadolu  3. ASLİYE TİCARET MAHK...</td>\n",
       "      <td>Müvekkili ----- başlangıç tarihli---- poliçesi...</td>\n",
       "    </tr>\n",
       "    <tr>\n",
       "      <th>287457</th>\n",
       "      <td>T.C.İSTANBULBÖLGE ADLİYE MAHKEMESİ14. HUKUK D...</td>\n",
       "      <td>müvekkilinin davalıya satmış olduğu mal ve hiz...</td>\n",
       "    </tr>\n",
       "    <tr>\n",
       "      <th>287458</th>\n",
       "      <td>T.C. İZMİR 3. ASLİYE TİCARET MAHKEMESİ\\tESAS ...</td>\n",
       "      <td>taraflar arasında 14.11.2014 tarihli ...&amp;... A...</td>\n",
       "    </tr>\n",
       "  </tbody>\n",
       "</table>\n",
       "<p>287459 rows × 2 columns</p>\n",
       "</div>"
      ],
      "text/plain": [
       "                                                      doc  \\\n",
       "0        T.C. İstanbul Anadolu  8. ASLİYE TİCARET MAHK...   \n",
       "1        T.C.İSTANBUL5. ASLİYE TİCARET MAHKEMESİESAS N...   \n",
       "2        T.C. BAKIRKÖY 7. ASLİYE TİCARET MAHKEMESİ\\t E...   \n",
       "3        T.C. BAKIRKÖY 4. ASLİYE TİCARET MAHKEMESİ\\t E...   \n",
       "4        T.C.İSTANBUL14. ASLİYE TİCARET MAHKEMESİESAS ...   \n",
       "...                                                   ...   \n",
       "287454    ....TÜRK MİLLETİ ADINA\\tT.C.\\tBURSA1. ASLİYE...   \n",
       "287455   T.C. İstanbul Anadolu  1. ASLİYE TİCARET MAHK...   \n",
       "287456   T.C. İstanbul Anadolu  3. ASLİYE TİCARET MAHK...   \n",
       "287457   T.C.İSTANBULBÖLGE ADLİYE MAHKEMESİ14. HUKUK D...   \n",
       "287458   T.C. İZMİR 3. ASLİYE TİCARET MAHKEMESİ\\tESAS ...   \n",
       "\n",
       "                                                    query  \n",
       "0       müvekkilinin ortak ve yetkilisi olduğu,  ---- ...  \n",
       "1       müvekkiline ait ... ENERJİ SAN. TİC. LTD. ŞTİ....  \n",
       "2       27.08.2012 tarihli, ...... numaralı Poliçe ile...  \n",
       "3                        ...Bankası A.Ş. ... Şubesine ait  \n",
       "4       \"davalı borçlu ile müvekkili arasında 14/04/20...  \n",
       "...                                                   ...  \n",
       "287454  davacı ve davalı arasında olan ticari ilişki n...  \n",
       "287455  davacının belirtilen tarihler arasında çalıştı...  \n",
       "287456  Müvekkili ----- başlangıç tarihli---- poliçesi...  \n",
       "287457  müvekkilinin davalıya satmış olduğu mal ve hiz...  \n",
       "287458  taraflar arasında 14.11.2014 tarihli ...&... A...  \n",
       "\n",
       "[287459 rows x 2 columns]"
      ]
     },
     "execution_count": 12,
     "metadata": {},
     "output_type": "execute_result"
    }
   ],
   "source": [
    "dataset"
   ]
  },
  {
   "cell_type": "code",
   "execution_count": 16,
   "metadata": {},
   "outputs": [
    {
     "ename": "NameError",
     "evalue": "name 'BertTokenizer' is not defined",
     "output_type": "error",
     "traceback": [
      "\u001b[0;31m---------------------------------------------------------------------------\u001b[0m",
      "\u001b[0;31mNameError\u001b[0m                                 Traceback (most recent call last)",
      "\u001b[1;32m/Users/cansakiroglu/_dev/__IRS_Project/DataPreprocess.ipynb Cell 12\u001b[0m line \u001b[0;36m3\n\u001b[1;32m      <a href='vscode-notebook-cell:/Users/cansakiroglu/_dev/__IRS_Project/DataPreprocess.ipynb#X14sZmlsZQ%3D%3D?line=0'>1</a>\u001b[0m \u001b[39m# Load pre-trained Turkish BERT model and tokenizer\u001b[39;00m\n\u001b[1;32m      <a href='vscode-notebook-cell:/Users/cansakiroglu/_dev/__IRS_Project/DataPreprocess.ipynb#X14sZmlsZQ%3D%3D?line=1'>2</a>\u001b[0m model_name \u001b[39m=\u001b[39m \u001b[39m\"\u001b[39m\u001b[39mdbmdz/bert-base-turkish-cased\u001b[39m\u001b[39m\"\u001b[39m\n\u001b[0;32m----> <a href='vscode-notebook-cell:/Users/cansakiroglu/_dev/__IRS_Project/DataPreprocess.ipynb#X14sZmlsZQ%3D%3D?line=2'>3</a>\u001b[0m tokenizer \u001b[39m=\u001b[39m BertTokenizer\u001b[39m.\u001b[39mfrom_pretrained(model_name)\n\u001b[1;32m      <a href='vscode-notebook-cell:/Users/cansakiroglu/_dev/__IRS_Project/DataPreprocess.ipynb#X14sZmlsZQ%3D%3D?line=3'>4</a>\u001b[0m model \u001b[39m=\u001b[39m BertModel\u001b[39m.\u001b[39mfrom_pretrained(model_name)\n",
      "\u001b[0;31mNameError\u001b[0m: name 'BertTokenizer' is not defined"
     ]
    }
   ],
   "source": [
    "# Load pre-trained Turkish BERT model and tokenizer\n",
    "model_name = \"dbmdz/bert-base-turkish-cased\"\n",
    "tokenizer = BertTokenizer.from_pretrained(model_name)\n",
    "model = BertModel.from_pretrained(model_name)"
   ]
  },
  {
   "cell_type": "code",
   "execution_count": null,
   "metadata": {},
   "outputs": [],
   "source": [
    "# Tokenize and convert to tensor\n",
    "inputs = tokenizer(dataset['query'].tolist(), return_tensors=\"pt\", truncation=True, padding=True)\n",
    "\n",
    "# Forward pass through the BERT model\n",
    "with torch.no_grad():\n",
    "    outputs = model(**inputs)\n",
    "\n",
    "# Extract the embeddings from the output\n",
    "embeddings = outputs.last_hidden_state.mean(dim=1)\n",
    "\n",
    "# Convert to NumPy array\n",
    "embeddings_np = embeddings.numpy()"
   ]
  },
  {
   "cell_type": "code",
   "execution_count": null,
   "metadata": {},
   "outputs": [],
   "source": [
    "# Tokenize and convert to tensor\n",
    "inputs = tokenizer(dataset['doc'].tolist(), return_tensors=\"pt\", truncation=True, padding=True)\n",
    "\n",
    "# Forward pass through the BERT model\n",
    "with torch.no_grad():\n",
    "    outputs = model(**inputs)\n",
    "\n",
    "# Extract the embeddings from the output\n",
    "embeddings = outputs.last_hidden_state.mean(dim=1)\n",
    "\n",
    "# Convert to NumPy array\n",
    "embeddings_np = embeddings.numpy()"
   ]
  }
 ],
 "metadata": {
  "kernelspec": {
   "display_name": "torch",
   "language": "python",
   "name": "python3"
  },
  "language_info": {
   "codemirror_mode": {
    "name": "ipython",
    "version": 3
   },
   "file_extension": ".py",
   "mimetype": "text/x-python",
   "name": "python",
   "nbconvert_exporter": "python",
   "pygments_lexer": "ipython3",
   "version": "3.11.5"
  }
 },
 "nbformat": 4,
 "nbformat_minor": 2
}
