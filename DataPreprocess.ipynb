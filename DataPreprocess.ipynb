{
 "cells": [
  {
   "cell_type": "code",
   "execution_count": 1,
   "metadata": {},
   "outputs": [],
   "source": [
    "import os\n",
    "import json\n",
    "from bs4 import BeautifulSoup\n",
    "import numpy as np\n",
    "import pandas as pd\n",
    "from tqdm import tqdm\n",
    "import pickle"
   ]
  },
  {
   "cell_type": "code",
   "execution_count": 2,
   "metadata": {},
   "outputs": [],
   "source": [
    "mode = 'read' # 'write' or 'read'\n",
    "if mode == 'write':\n",
    "    # To write the data\n",
    "    path_to_data = 'data/'\n",
    "    file_names = os.listdir(path_to_data)\n",
    "    print('Number of files: ', len(file_names))\n",
    "    data = []\n",
    "    for i in tqdm(range(len(file_names))):\n",
    "        with open(path_to_data + file_names[i], 'r') as f:\n",
    "            data.append(BeautifulSoup(json.loads(f.read())['data'], 'html.parser').get_text())\n",
    "    with open('data.pkl', 'wb') as f:\n",
    "        pickle.dump(data, f)\n",
    "else:\n",
    "    # To read the data\n",
    "    with open('data.pkl', 'rb') as f:\n",
    "        data = pickle.load(f)"
   ]
  },
  {
   "cell_type": "code",
   "execution_count": 3,
   "metadata": {},
   "outputs": [
    {
     "data": {
      "text/plain": [
       "' T.C.İSTANBUL5. ASLİYE TİCARET MAHKEMESİ ESAS NO\\t: 2016/451 EsasKARAR NO\\t: 2019/85DAVA\\t: Alacak (Ticari Nitelikteki Hizmet Sözleşmesinden Kaynaklanan)DAVA TARİHİ\\t: 21/04/2016KARAR TARİHİ\\t: 05/02/2019Mahkememizde görülmekte olan Alacak davasının yapılan açık yargılaması sonunda,GEREĞİ DÜŞÜNÜLDÜ:Davacı vekili 21/04/2016 tarihli dava dilekçesinde; Taraflar ve tarafların dışındaki kişilerle yapılmış 20 Mart 2006 tarihli düzenleme şeklinde ortaklar özel sözleşmesi gereğince davalı ve dava dışı diğer şahısların taşınmazlarının kurulacak bir şirkete devredilmesi ve kurulmuş şirketin bu taşınmazlar üzerinde inşaat faaliyetine başlamasını öngören bir sözleşme yapıldığını, bu sözleşmeye göre aralarında davalının da bulunduğu \"mal sahiplerine\" ait taşınmazların üzerinde yapılacak inşaatın finansmanının davacı tarafından karşılanacağını, taşınmaz üzerindeki borçların ve bazı giderlerin davacı tarafından ödendiğini, yapılacak inşaata ilişkin, öngörülen biçimde ruhsat alınmasının yasal olarak mümkün olmadığından taraflar arasında yapılan sözleşmenin hukuken imkansız hale geldiğini, aralarında davalının da bulunduğu taşınmaz sahipleri tarafından, davacının hissedarı bulunduğu şirkete karşı taşınmazlarını geri almak amacıyla, taşınmazların kayıtlı olduğu şirketin hisselerinin kendilerine devri için dava açıldığını, mahkemenin taşınmazların kayıtlı bulunduğu şirketteki davacıya ait hisselerin devrine karar verdiğini, şirketin amacının gerçekleşmemesi üzerine davacıların daha önce inşaat yapımı için ortaya koydukları taşınmazlarını şirket hisselerinin tamamına sahip olarak geri almış bulunmakta olduğunu, inşaatın yapımını üstlenen davacı şirketin davalı ve dava dışı kişilere karşı onların borçlarını ödemiş bulunduğundan, bu bedellerin iadesini isteme zorunluluğu doğduğunu, davacının amacı gerçekleşmeyen bu sözleşme uyarınca yapmış olduğu giderlerin, aralarında davalının da bulunduğu diğer taşınmaz sahipleri tarafından açılmış ve karara bağlanmış bulunan davada, mahkeme kararının 4.sahifesinde ödeme yapıldığının açıkça belirtildiğini, davalıya ve dava dışı arkadaşlarına toplam 20.000,00 TL olmak üzere 5.000,00 TL ... A.Ş.\\'ne ödendiğini, davalı ve dava dışı diğer mal sahiplerine ait taşınmazların devri için toplamda 117.850,00 TL emlak vergisi ödenmiş olup davalıya düşer miktarın 29.462,50 TL olduğunu, davalı ve dava dışı diğer mal sahiplerine ait taşınmazların etrafının çitle çevrilmesi ve restorasyonu için ... Şti.\\'ne yapılan toplamda 100.000 USD ödemeden davalı hissesine düşenin 25.000 USD olduğunu, davalı ve dava dışı diğer mal sahiplerine ait taşınmazların üzerinde yapılacak inşaata ilişkin tasarım ve yerleşim maketi için ...Tic. Ltd. Şti.\\'ne yapılan toplamda 32.450,00 TL ödemeden davalı hissesine düşenin 8.112,50 TL olduğunu, taşınmazlara ilişkin proje danışmanlık hizmet için ... Tic. A.Ş.\\'ne 108.000,00 TL ödemeden davalı hissesine düşenin 27.000,00 TL olduğunu, İstanbul Kapatılan 48. A.T.M.\\'nin 2013/101 esas, 2014/72 karar sayılı mahkeme ilamı, 3.sayfa son paragrafta \"taşınmazların devir tarihinde ödenecek olan miktarın belirlendiğini, bu miktarın 2.300,000 Amerikan Dolarının davacılara (mal sahiplerine) ödendiğini, davacılar tarafından sunulan 14.05.2008 havale tarihli replik dilekçesinde kabul edilmiştir.\" denildiğini, davacı tarafından bu şahsın borçlarının ödenmesinden doğan payına isabet eden 25.000 USD\\'nin ödeme tarihi 21.04.2006 tarihinden itibaren 3095 sayılı kanunun 4/a maddesi gereğince fiili ödeme tarihinde Devlet Bankalarının Amerikan Doları ile açılmış bir (1) yıl vadeli mevduat hesabına ödediği en yüksek faiz oranına göre işlemiş faizi ile birlikte ve 69.575,00 TL\\'nin ödeme tarihi 21.04.2006 tarihinden itibaren reeskont faizi ile birlikte tahsiline, davanın süresi ve davalıya ait ... A.Ş.deki hisselerden oluşan mal varlığı dışında bir mal varlığı bulunmadığından, mahkemece uygun görülecek teminat takdiri suretiyle işbu şahsın şirket hisselerinin 3.şahıslara devir ve temlikinin ihtiyati tedbir yoluyla önlenmesine karar verilmesini talep ve dava etmiştir.Davalıya usulüne uygun dava dilekçesi, duruşma gün ve saati tebliğ edilmiş, davalı vekili vermiş olduğu cevap dilekçesinde; dava dilekçesinde belirtilen beyanların ve taleplerin haksız ve mesnetsiz olduğunu, davacının ... 48. A.T.M.\\'nin kararın gerekçesinin sadece bir kısmından alıntı yaparak gerçek dışı iddialarına dayanak bulmaya çalıştığını, taraflar arasında yaşanmış olan sürecin davacılar tarafından gerçek dışı beyanlar ile aktarılması nedenine binaen öncelikle anılan süreci mahkemeye gerçek haliyle ve ilgili mahkeme ve Yargıtay onama kararlarının gerekçelerini sunduklarını, Ortaklar Özel Sözleşmesine göre, müvekkilinin de aralarında bulunduğu mal sahiplerinin asli ediminin, sahibi oldukları gayrimenkulleri davacılar ile birlikte kurulacak ... A.Ş.\\'ne devretmek, ... Grubunun ise finansman temin etmek suretiyle bu taşınmazlar üzerinde ... A.Ş. çatısı altında inşaat yapmak olduğunu, ... tarafının, sözleşmenin 12.maddesinde, inşa edilecek köşk ve villaların satışından elde edilecek hasılattan, her ne ad altında olursa olsun yapmış olduğu masraflar ve vergiler ile ilgili bir kesinti yapmaksızın %45\\'lik kısmının müvekkilinin de aralarında bulunduğu mal sahiplerine ödemeyi müşterek borçlu ve müteselsil kefil sıfatı ile taahhüt ettiğini, dava dilekçesinde gerçek dışı beyanların aksine, ... tarafının, üzerine düşen yükümlülükleri yerine getirmediğini, söz konusu taşınmazları usulsüz bir şekilde ele geçirmek için muvazaalı iş ve işlemler gerçekleştirdiğini, dava dilekçesinde açıklamalar kısmının 3 numaralı maddesinde yer alan \"Yapılacak inşaata ilişkin, öngörülen biçimde ruhsat alınması yasal olarak mümkün olamadığından taraflar arasında yapılan sözleşme hukuken imkansız hale gelmiştir.\" şeklindeki beyanın gerçek dışı olduğunu, sözleşmenin gerçekleşmesinin nedeninin ruhsat alınamaması gibi gösterilmeye çalışıldığını, gerçek dışı beyanda bulunulduğunu, ... A.Ş.\\'nin de sahibi olduğu hisselerin, müvekkili ve diğer mal sahiplerine bilabedel devretmeye mahkum edildiğini, ancak, dava dilekçesinde belirtilen gerçek dışı beyanın aksine, müvekkilinin de aralarında bulunduğu mal sahiplerinin, şirket hisselerini halen geri alamamış olduklarını, açıklanan hususlar ve mahkeme kararı gerekçesi ile birlikte değerlendirildiğinde, davacıların huzurdaki mahkemedeki taleplerinin sebepsiz zenginleşme yaratacağının izahtan vareste olduğunu, davacıların, hem hükmen iade etmesi gereken hisseleri ve dolayısıyla taşınmazları iade etmediği gibi, bu defa müvekkilinin uhdesinde başından beri bulunan hisseleri ve dolayısıyla taşınmazın tamamını ele geçirmek istediğini, davacıların alacak talebinin, kesinleşmiş mahkeme kararı nedeni ile haksız ve mesnetsiz bir talep olduğunu, Ortaklar Özel Sözleşmesindeki hak ve alacaklarının devredilmiş olduğunun kabul edilmesi gerektiğini, ileri sürülen mesnetsiz alacak hakkının, şirket hisselerini devir alan başka bir tüzel kişiliğe geçeceğini, davacıların bu nedenle aktif dava ehliyeti bulunmadığını, zamanaşımı itirazlarının olduğunu, davacıların aktif dava ehliyeti bulunmaması nedeni ile davanın usulden reddine, zamanaşımı nedeni ile davanın reddine, haksız ve mesnetsiz davanın reddine karar verilmesini talep etmiştir.Dava; taraflar arasındaki inşaat yapım sözleşmesi kapsamında, sözleşmenin ruhsat alım nedeni ile gerçekleşmemesi nedeni ile sözleşme kapsamında, davacı tarafından yapılan ödemelerin davalı payına düşen kısmının tahsili istemine ilişkindir.Mahkememizce, bilirkişi olarak mali müşavir ... ile inşaat mühendisi ...\\'in tayinine, tüm dosya kapsamı ve tarafların ticari defter ve kayıtları üzerinde inceleme yaparak rapor düzenlemelerinin istenilmesine karar verilmiş olup, ibraz edilen 27/11/2017 tarihli raporda; ... 22.Noterliği ... tarih ve ... yevmiye no ile onaylı ...,..., ...  San. A.Ş., .... ile ... İşletmecilik A.Ş. arasında 20.03.2006 tarihinde Düzenleme Şeklinde Ortaklar Özel Sözleşmesi akdedildiğinin görüldüğü, davacının çevirme masrafları olarak 100.000 USD harcama yaptığının anlaşıldığı, bu tutarın 25.000 USD\\'lik kısmı malik olan davalıdan istendiği, söz konusu 25.000 USD\\'nin maliklerin devrettikleri tapuları geri alma haklarını kullanarak ... 1. ATM ... sayılı dosyasında verilen karar kapsamında geri almalarına karar verilmesi sebebiyle, yine 8/c maddesi kapsamında %50 oranda mahkemece paylaşılması değerlendirildiğinde, hesaplaması aşağıdaki gibi 12.500 USD olarak yapıldığı, ayrıca mahkemece davacı talebi gibi tamamının verilmesi değerlendirildiğinde 25.000 USD söz konusu olacağı, sonuç olarak dosya, davacıların sunulan kayıtları, kayıtların dayanağı belgeleri kapsamında talebe konu ödemeler ile ilgili tespitler raporun içerisinde arz edildiği, yine taraflar arasında yapılan 20.03.2006 tarihli Ortaklar Özel Sözleşmesi kapsamında hükümler, ... 1 ATM ... sayılı dosya ile ilgili karar ve tüm kapsam incelendiği, talebe binaen yapılan hesaplamaların takdiri mahkemeye ait olmak üzere sunulduğu bildirilmiştir.Tüm dosya kapsamı bir bütün olarak değerlendirildiğinde, davacılar davasında davalı ile inşaat yapımına ilişkin sözleşme yaptıklarını, inşaat ruhsatının alınamaması sebebiyle taraflar arasındaki sözleşmenin hükümsüz hale geldiğini, sözleşme kapsamında yaptıkları masrafların davalıdan tahsilini talep etmiştir. Dosya içerisinde bulunan düzenleme şeklinde ortaklar özel sözleşmesi örneğinden davacılar ile davalı arasında mal sahiplerinin toplam 45.824,69 m2 alanlı arsaların satış bedelleri hasılat paylaşımı yoluyla ... tarafından tediye edilmek üzere ... ile birlikte kurulacak yatırımcı şirkete satış yoluyla devri konusunda sözleşme yapmış oldukları, dosya içerisinde bulunan ... 1. ATM\\'nin ... esas 2010/52 karar sayılı kararında kararın incelemesinde davacılar ... ve ...\\'ın davalılar .... ve ... A.Ş.\\'ye açmış oldukları davada mahkemenin hisse devri davasının kabulüne karar verilmiş olduğu görülmüştür. Dosya içerisinde bulunan ... 48. ATM\\'nin 2013/101 esas, 2014/72 karar sayılı kararının incelenmesinde, asıl ve birleşen davalarda davacı ..., ..., ... A.Ş.ve ... A.ş. Tarafından davalılar .... ve ... hakkındaki hisse devri davalarının kabulüne karar verilmiş olduğu görülmüştür. Dosya mali müşavir ve inşaat mühendisi bilirkişilere verilmiş, yapılan inceleme sonucunda düzenlenen raporda davacının davalı şirkete 5.000 TL ödemesinin mevcut olduğu, diğer taleplerin tarafların sözleşme konusu işin yapımı için kurulmuş olan torba şirketindeki hisse oranlarına göre hesaplandığı, bu bedellerin sözleşme konusu işin yapılmış olması halinde davacının talepte bulunamayacağı ancak sözleşme hükümlerince işin yapılamamış olmasından dolayı davacının yapmış olduğu masraflardan 1/2 oranın şirketteki hisse paylarına göre davalılardan talep edilebileceği bu orana göre taşınmaz devri için davalının 14.731,25 TL den tasarım maketi için 4.056,25 TL den proje danışmanlık harcaması için 13.500 TL den ve taşınmaz çevresine çit yapılmasından dolayı yapılan harcamadan dolayı 12.500 USD davacının talep edebileceğini rapor ettiği görülmüş, dosya içerisinde bulunan taraflar arasındaki düzenleme şeklindeki ortaklık sözleşmesinin 8/c maddesine göre mücbir sebeplerden ve sözleşme taraflarının ihmal ve kusurlarından kaynaklanmayan herhangi bir nedenle inşaat ruhsatnamesinin kısmen veya tamamen iptal edilmesi bunun ... A.Ş. veya ...\\'in ihmal veya kusurundan kaynaklanmaması kaydıyla projenin inşa edilememesi halinde ... veya ... A.Ş. tarafından karşılanan inşaat giderlerinin %50\\'sinin ...\\'e ödenmesi karşılığında bu maddede yazılı alım hakkının olacağının hükme bağlandığı görülmüş, sözleşmenin bu hükmüne göre sözleşme konusu işin yapımı için gerekli ruhsatın alınamaması halinde yapılan masraflardan %50\\'sinin ... Şirketindeki pay oranına göre davalının sorumlu olacağı, yaptırılan bilirkişi incelemesinde davacının sözleşme kapsamında yapmış olduğu masraflar kalem kalem tespit edilmiş, bu miktarlar üzerinden sözleşmenin 8/c maddesi gereğince hisse oranına göre yapılan hesaplamada davacının davalıdan 37.287,50 TL ve 12.500 USD alacaklı olduğu ve bu nedenle de davacının davasının kısmen kabulüne, 37.287,50 TL nin dava tarihinden itibaren işleyecek avans faizi ile davalıdan alınarak davacıya ödenmesine, 12.500 USD nin dava tarihinden itibaren 3095 sayılı yasanın 4/a maddesine göre devlet bankalarında döviz cinsinden 1 yıl vadeli mevduatlara uygulanan en yüksek faiz ile davalıdan tahsili ile davacıya ödenmesine, fazlaya ilişkin istemin reddine karar vermek gerekmiş ve aşağıdaki şekilde hüküm kurulmuştur.HÜKÜM / Yukarıda açıklanan nedenlerle:1-Davacının davasının KISMEN KABULÜNE, 37.287,50 TL nin dava tarihinden itibaren işleyecek avans faizi ile davalıdan alınarak davacıya ödenmesine, 12.500 USD nin dava tarihinden itibaren 3095 sayılı yasanın 4/a maddesine göre devlet bankalarında döviz cinsinden 1 yıl vadeli mevduatlara uygulanan en yüksek faiz ile davalıdan tahsili ile davacıya ödenmesine, fazlaya ilişkin istemin reddine,2-Karar tarihinde yürürlükte bulunan harçlar tarifesi gereğince hesaplanan 4.972,11 TL nispi karar ve ilam harcından, başlangıçta yatırılan 2.391,71 TL peşin harcın mahsubu ile bakiye 2.580,40 TL nispi karar ve ilam harcının davalıdan tahsili ile hazineye gelir kaydına, 3-Davacılar tarafından yatırılan 2.391,71 TL harç ile, yine davacılar tarafından aşağıda dökümü yapılan 1.763,50 TL yargılama giderinden davanın kabul edilen kısmı üzerinden hesaplanan 916,49 TL\\'nin davalıdan alınarak davacılara verilmesine, bakiye kısmın davacılar üzerinde bırakılmasına,4-Davacılar kendisini vekille temsil ettirdiğinden, davanın kabul edilen kısmı üzerinden, karar tarihinde yürürlükte bulunan Avukatlık Asgari Ücret Tarifesi gereğince hesaplanan 8.356,63 TL nispi vekalet ücretinin davalıdan alınarak davacılara verilmesine,5-Davalı kendisini vekille temsil ettirdiğinden, davanın reddedilen kısmı üzerinden, karar tarihinde yürürlükte bulunan Avukatlık Asgari Ücret Tarifesi gereğince hesaplanan 7.748,88 TL nispi vekalet ücretinin davacılardan alınarak davalıya verilmesine,6-Davacılar tarafından yatırılan gider avansından bakiye kalan kısmın, karar kesinleştiğinde ve  talep halinde iadesine,dair davacı ve davalı vekilinin yüzüne karşı gerekçeli kararın tebliğinden itibaren 2 haftalık sürede istinaf yolu açık olmak üzere karar verildi. 05/02/2019Katip ...  Hakim ... Harç BeyanıK.H.=   4.972,11 TLP.H.=    2.391,71 TLB.H.=   2.580,40 TLDavacılar yargılama gideri1.600,00 TL bilirkişi ücreti   163,50 TL posta gideri1.763,50 TL Toplam yargılama gideri'"
      ]
     },
     "execution_count": 3,
     "metadata": {},
     "output_type": "execute_result"
    }
   ],
   "source": [
    "data[0]"
   ]
  }
 ],
 "metadata": {
  "kernelspec": {
   "display_name": "torch",
   "language": "python",
   "name": "python3"
  },
  "language_info": {
   "codemirror_mode": {
    "name": "ipython",
    "version": 3
   },
   "file_extension": ".py",
   "mimetype": "text/x-python",
   "name": "python",
   "nbconvert_exporter": "python",
   "pygments_lexer": "ipython3",
   "version": "3.11.5"
  }
 },
 "nbformat": 4,
 "nbformat_minor": 2
}
